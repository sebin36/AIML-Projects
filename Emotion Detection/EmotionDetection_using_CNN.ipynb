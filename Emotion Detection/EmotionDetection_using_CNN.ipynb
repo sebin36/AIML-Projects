{
 "cells": [
  {
   "cell_type": "code",
   "execution_count": 1,
   "id": "3091a0c7",
   "metadata": {},
   "outputs": [],
   "source": [
    "from keras.models import Sequential\n",
    "from keras.layers import Conv2D, MaxPooling2D, Dense, Dropout, Flatten\n",
    "from keras.optimizers import Adam\n",
    "from keras.preprocessing.image import ImageDataGenerator"
   ]
  },
  {
   "cell_type": "code",
   "execution_count": 2,
   "id": "f818d5a1",
   "metadata": {},
   "outputs": [],
   "source": [
    "train_data_gen = ImageDataGenerator(rescale=1./255)\n",
    "valid_data_gen = ImageDataGenerator(rescale=1./255)"
   ]
  },
  {
   "cell_type": "code",
   "execution_count": 3,
   "id": "726f81cd",
   "metadata": {},
   "outputs": [
    {
     "name": "stdout",
     "output_type": "stream",
     "text": [
      "Found 25920 images belonging to 7 classes.\n",
      "Found 7066 images belonging to 7 classes.\n"
     ]
    }
   ],
   "source": [
    "x_train=train_data_gen.flow_from_directory('D:/Deep_Learning/images/train',\n",
    "                                         target_size=(48, 48),\n",
    "                                         color_mode='grayscale',\n",
    "                                         batch_size=64,\n",
    "                                         class_mode='categorical')\n",
    "\n",
    "x_test=valid_data_gen.flow_from_directory('D:/Deep_Learning/images/validation',\n",
    "                                       target_size=(48, 48),\n",
    "                                       color_mode='grayscale',\n",
    "                                       batch_size=64,\n",
    "                                       class_mode='categorical')"
   ]
  },
  {
   "cell_type": "code",
   "execution_count": 4,
   "id": "b9f06206",
   "metadata": {},
   "outputs": [],
   "source": [
    "model = Sequential()\n",
    "\n",
    "#1st CNN layer\n",
    "model.add(Conv2D(32, kernel_size=(3, 3), activation='relu', input_shape=(48, 48, 1)))\n",
    "model.add(Conv2D(64, kernel_size=(3, 3), activation='relu'))\n",
    "model.add(MaxPooling2D(pool_size = (2,2)))\n",
    "model.add(Dropout(0.25))\n",
    "\n",
    "#2nd CNN layer\n",
    "model.add(Conv2D(128, kernel_size=(3, 3), activation='relu'))\n",
    "model.add(MaxPooling2D(pool_size = (2,2)))\n",
    "model.add(Conv2D(128, kernel_size=(3, 3), activation='relu'))\n",
    "model.add(MaxPooling2D(pool_size = (2,2)))\n",
    "model.add(Dropout (0.25))\n",
    "\n",
    "model.add(Flatten())\n",
    "model.add(Dense(1024, activation='relu'))\n",
    "model.add(Dropout(0.5))\n",
    "model.add(Dense(7, activation='softmax'))\n",
    "\n",
    "model.compile(loss='categorical_crossentropy', optimizer=Adam(learning_rate=0.0001), metrics=['accuracy'])"
   ]
  },
  {
   "cell_type": "code",
   "execution_count": 5,
   "id": "637f7f4d",
   "metadata": {
    "scrolled": false
   },
   "outputs": [
    {
     "name": "stdout",
     "output_type": "stream",
     "text": [
      "Epoch 1/50\n"
     ]
    },
    {
     "name": "stderr",
     "output_type": "stream",
     "text": [
      "C:\\Users\\Sebin\\AppData\\Local\\Temp\\ipykernel_11424\\3781142391.py:1: UserWarning: `Model.fit_generator` is deprecated and will be removed in a future version. Please use `Model.fit`, which supports generators.\n",
      "  model_info = model.fit_generator(x_train,steps_per_epoch=25920 // 64,epochs=50,validation_data=x_test,validation_steps=7066 // 64)\n"
     ]
    },
    {
     "name": "stdout",
     "output_type": "stream",
     "text": [
      "405/405 [==============================] - 133s 326ms/step - loss: 1.8305 - accuracy: 0.2083 - val_loss: 1.7730 - val_accuracy: 0.2713\n",
      "Epoch 2/50\n",
      "405/405 [==============================] - 134s 331ms/step - loss: 1.6946 - accuracy: 0.3199 - val_loss: 1.5895 - val_accuracy: 0.4034\n",
      "Epoch 3/50\n",
      "405/405 [==============================] - 133s 328ms/step - loss: 1.5940 - accuracy: 0.3742 - val_loss: 1.5197 - val_accuracy: 0.4234\n",
      "Epoch 4/50\n",
      "405/405 [==============================] - 137s 338ms/step - loss: 1.5228 - accuracy: 0.4080 - val_loss: 1.4503 - val_accuracy: 0.4554\n",
      "Epoch 5/50\n",
      "405/405 [==============================] - 131s 322ms/step - loss: 1.4628 - accuracy: 0.4343 - val_loss: 1.3947 - val_accuracy: 0.4800\n",
      "Epoch 6/50\n",
      "405/405 [==============================] - 132s 326ms/step - loss: 1.4110 - accuracy: 0.4575 - val_loss: 1.3439 - val_accuracy: 0.4976\n",
      "Epoch 7/50\n",
      "405/405 [==============================] - 141s 349ms/step - loss: 1.3709 - accuracy: 0.4743 - val_loss: 1.3038 - val_accuracy: 0.5131\n",
      "Epoch 8/50\n",
      "405/405 [==============================] - 139s 344ms/step - loss: 1.3280 - accuracy: 0.4925 - val_loss: 1.2827 - val_accuracy: 0.5226\n",
      "Epoch 9/50\n",
      "405/405 [==============================] - 136s 335ms/step - loss: 1.2980 - accuracy: 0.5063 - val_loss: 1.2630 - val_accuracy: 0.5233\n",
      "Epoch 10/50\n",
      "405/405 [==============================] - 148s 366ms/step - loss: 1.2646 - accuracy: 0.5191 - val_loss: 1.2090 - val_accuracy: 0.5474\n",
      "Epoch 11/50\n",
      "405/405 [==============================] - 134s 332ms/step - loss: 1.2383 - accuracy: 0.5289 - val_loss: 1.2129 - val_accuracy: 0.5520\n",
      "Epoch 12/50\n",
      "405/405 [==============================] - 137s 339ms/step - loss: 1.2086 - accuracy: 0.5426 - val_loss: 1.1900 - val_accuracy: 0.5550\n",
      "Epoch 13/50\n",
      "405/405 [==============================] - 139s 343ms/step - loss: 1.1788 - accuracy: 0.5539 - val_loss: 1.1956 - val_accuracy: 0.5582\n",
      "Epoch 14/50\n",
      "405/405 [==============================] - 139s 344ms/step - loss: 1.1561 - accuracy: 0.5633 - val_loss: 1.1701 - val_accuracy: 0.5670\n",
      "Epoch 15/50\n",
      "405/405 [==============================] - 138s 341ms/step - loss: 1.1328 - accuracy: 0.5745 - val_loss: 1.1572 - val_accuracy: 0.5732\n",
      "Epoch 16/50\n",
      "405/405 [==============================] - 133s 328ms/step - loss: 1.1060 - accuracy: 0.5873 - val_loss: 1.1421 - val_accuracy: 0.5770\n",
      "Epoch 17/50\n",
      "405/405 [==============================] - 134s 332ms/step - loss: 1.0831 - accuracy: 0.5952 - val_loss: 1.1431 - val_accuracy: 0.5778\n",
      "Epoch 18/50\n",
      "405/405 [==============================] - 141s 349ms/step - loss: 1.0613 - accuracy: 0.6019 - val_loss: 1.1157 - val_accuracy: 0.5902\n",
      "Epoch 19/50\n",
      "405/405 [==============================] - 143s 354ms/step - loss: 1.0290 - accuracy: 0.6172 - val_loss: 1.1112 - val_accuracy: 0.5943\n",
      "Epoch 20/50\n",
      "405/405 [==============================] - 146s 361ms/step - loss: 1.0065 - accuracy: 0.6233 - val_loss: 1.1129 - val_accuracy: 0.5932\n",
      "Epoch 21/50\n",
      "405/405 [==============================] - 147s 362ms/step - loss: 0.9833 - accuracy: 0.6350 - val_loss: 1.1136 - val_accuracy: 0.5920\n",
      "Epoch 22/50\n",
      "405/405 [==============================] - 133s 327ms/step - loss: 0.9598 - accuracy: 0.6442 - val_loss: 1.0926 - val_accuracy: 0.5949\n",
      "Epoch 23/50\n",
      "405/405 [==============================] - 130s 322ms/step - loss: 0.9337 - accuracy: 0.6554 - val_loss: 1.0955 - val_accuracy: 0.6020\n",
      "Epoch 24/50\n",
      "405/405 [==============================] - 136s 335ms/step - loss: 0.9102 - accuracy: 0.6625 - val_loss: 1.1117 - val_accuracy: 0.5943\n",
      "Epoch 25/50\n",
      "405/405 [==============================] - 193s 477ms/step - loss: 0.8870 - accuracy: 0.6748 - val_loss: 1.0863 - val_accuracy: 0.6051\n",
      "Epoch 26/50\n",
      "405/405 [==============================] - 131s 323ms/step - loss: 0.8598 - accuracy: 0.6858 - val_loss: 1.0863 - val_accuracy: 0.6078\n",
      "Epoch 27/50\n",
      "405/405 [==============================] - 131s 323ms/step - loss: 0.8416 - accuracy: 0.6916 - val_loss: 1.0920 - val_accuracy: 0.6081\n",
      "Epoch 28/50\n",
      "405/405 [==============================] - 351s 867ms/step - loss: 0.8188 - accuracy: 0.6955 - val_loss: 1.0998 - val_accuracy: 0.6061\n",
      "Epoch 29/50\n",
      "405/405 [==============================] - 130s 321ms/step - loss: 0.7947 - accuracy: 0.7120 - val_loss: 1.0974 - val_accuracy: 0.6097\n",
      "Epoch 30/50\n",
      "405/405 [==============================] - 130s 322ms/step - loss: 0.7691 - accuracy: 0.7182 - val_loss: 1.1092 - val_accuracy: 0.6087\n",
      "Epoch 31/50\n",
      "405/405 [==============================] - 131s 323ms/step - loss: 0.7462 - accuracy: 0.7242 - val_loss: 1.0891 - val_accuracy: 0.6119\n",
      "Epoch 32/50\n",
      "405/405 [==============================] - 133s 329ms/step - loss: 0.7278 - accuracy: 0.7343 - val_loss: 1.0905 - val_accuracy: 0.6097\n",
      "Epoch 33/50\n",
      "405/405 [==============================] - 133s 329ms/step - loss: 0.7057 - accuracy: 0.7407 - val_loss: 1.0971 - val_accuracy: 0.6129\n",
      "Epoch 34/50\n",
      "405/405 [==============================] - 141s 348ms/step - loss: 0.6810 - accuracy: 0.7527 - val_loss: 1.1065 - val_accuracy: 0.6105\n",
      "Epoch 35/50\n",
      "405/405 [==============================] - 133s 328ms/step - loss: 0.6545 - accuracy: 0.7625 - val_loss: 1.1108 - val_accuracy: 0.6158\n",
      "Epoch 36/50\n",
      "405/405 [==============================] - 132s 325ms/step - loss: 0.6299 - accuracy: 0.7706 - val_loss: 1.1027 - val_accuracy: 0.6190\n",
      "Epoch 37/50\n",
      "405/405 [==============================] - 155s 382ms/step - loss: 0.6161 - accuracy: 0.7787 - val_loss: 1.1124 - val_accuracy: 0.6089\n",
      "Epoch 38/50\n",
      "405/405 [==============================] - 141s 346ms/step - loss: 0.5979 - accuracy: 0.7845 - val_loss: 1.1340 - val_accuracy: 0.6121\n",
      "Epoch 39/50\n",
      "405/405 [==============================] - 130s 321ms/step - loss: 0.5821 - accuracy: 0.7888 - val_loss: 1.1314 - val_accuracy: 0.6149\n",
      "Epoch 40/50\n",
      "405/405 [==============================] - 130s 321ms/step - loss: 0.5580 - accuracy: 0.7975 - val_loss: 1.1334 - val_accuracy: 0.6187\n",
      "Epoch 41/50\n",
      "405/405 [==============================] - 132s 326ms/step - loss: 0.5389 - accuracy: 0.8037 - val_loss: 1.1550 - val_accuracy: 0.6126\n",
      "Epoch 42/50\n",
      "405/405 [==============================] - 131s 325ms/step - loss: 0.5189 - accuracy: 0.8123 - val_loss: 1.1763 - val_accuracy: 0.6155\n",
      "Epoch 43/50\n",
      "405/405 [==============================] - 130s 321ms/step - loss: 0.5095 - accuracy: 0.8151 - val_loss: 1.1646 - val_accuracy: 0.6122\n",
      "Epoch 44/50\n",
      "405/405 [==============================] - 130s 321ms/step - loss: 0.4922 - accuracy: 0.8224 - val_loss: 1.1863 - val_accuracy: 0.6134\n",
      "Epoch 45/50\n",
      "405/405 [==============================] - 130s 322ms/step - loss: 0.4781 - accuracy: 0.8289 - val_loss: 1.1762 - val_accuracy: 0.6158\n",
      "Epoch 46/50\n",
      "405/405 [==============================] - 130s 321ms/step - loss: 0.4605 - accuracy: 0.8316 - val_loss: 1.1774 - val_accuracy: 0.6146\n",
      "Epoch 47/50\n",
      "405/405 [==============================] - 130s 321ms/step - loss: 0.4459 - accuracy: 0.8382 - val_loss: 1.1848 - val_accuracy: 0.6138\n",
      "Epoch 48/50\n",
      "405/405 [==============================] - 131s 323ms/step - loss: 0.4338 - accuracy: 0.8419 - val_loss: 1.2034 - val_accuracy: 0.6206\n",
      "Epoch 49/50\n",
      "405/405 [==============================] - 131s 325ms/step - loss: 0.4293 - accuracy: 0.8458 - val_loss: 1.2231 - val_accuracy: 0.6082\n",
      "Epoch 50/50\n",
      "405/405 [==============================] - 130s 321ms/step - loss: 0.4072 - accuracy: 0.8523 - val_loss: 1.2201 - val_accuracy: 0.6075\n"
     ]
    }
   ],
   "source": [
    "model_info = model.fit_generator(x_train,steps_per_epoch=25920 // 64,epochs=50,validation_data=x_test,validation_steps=7066 // 64)"
   ]
  },
  {
   "cell_type": "code",
   "execution_count": 6,
   "id": "ec73b647",
   "metadata": {},
   "outputs": [],
   "source": [
    "#save model structure in json file\n",
    "model_json = model.to_json()\n",
    "with open('model.json','w') as json_file:\n",
    "    json_file.write(model_json)"
   ]
  },
  {
   "cell_type": "code",
   "execution_count": 7,
   "id": "3b20ca94",
   "metadata": {},
   "outputs": [],
   "source": [
    "#save trained model weight in .h5 file\n",
    "model.save_weights('model3.h5')"
   ]
  },
  {
   "cell_type": "code",
   "execution_count": null,
   "id": "a072e010",
   "metadata": {},
   "outputs": [],
   "source": []
  }
 ],
 "metadata": {
  "kernelspec": {
   "display_name": "Python 3 (ipykernel)",
   "language": "python",
   "name": "python3"
  },
  "language_info": {
   "codemirror_mode": {
    "name": "ipython",
    "version": 3
   },
   "file_extension": ".py",
   "mimetype": "text/x-python",
   "name": "python",
   "nbconvert_exporter": "python",
   "pygments_lexer": "ipython3",
   "version": "3.9.12"
  }
 },
 "nbformat": 4,
 "nbformat_minor": 5
}
